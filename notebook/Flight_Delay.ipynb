{
  "nbformat": 4,
  "nbformat_minor": 0,
  "metadata": {
    "colab": {
      "name": "Flight_Delay.ipynb",
      "version": "0.3.2",
      "provenance": []
    },
    "kernelspec": {
      "name": "python3",
      "display_name": "Python 3"
    }
  },
  "cells": [
    {
      "metadata": {
        "id": "Kspi1s6Pkcex",
        "colab_type": "code",
        "colab": {}
      },
      "cell_type": "code",
      "source": [
        "from google.colab import auth\n",
        "auth.authenticate_user()"
      ],
      "execution_count": 0,
      "outputs": []
    },
    {
      "metadata": {
        "id": "CfuoRGCPkuZo",
        "colab_type": "code",
        "outputId": "d4f82033-db83-4445-b825-b18955e27d21",
        "colab": {
          "base_uri": "https://localhost:8080/",
          "height": 34
        }
      },
      "cell_type": "code",
      "source": [
        "from google.colab import drive\n",
        "drive.mount('/content/gdrive')"
      ],
      "execution_count": 50,
      "outputs": [
        {
          "output_type": "stream",
          "text": [
            "Drive already mounted at /content/gdrive; to attempt to forcibly remount, call drive.mount(\"/content/gdrive\", force_remount=True).\n"
          ],
          "name": "stdout"
        }
      ]
    },
    {
      "metadata": {
        "id": "uDXJ5skMk4Ng",
        "colab_type": "code",
        "outputId": "257cba7a-c633-4fae-80d2-cb9dba67edcd",
        "colab": {
          "base_uri": "https://localhost:8080/",
          "height": 51
        }
      },
      "cell_type": "code",
      "source": [
        "!ls /content/gdrive/My\\ Drive/Datasets/Flight_Delay/"
      ],
      "execution_count": 51,
      "outputs": [
        {
          "output_type": "stream",
          "text": [
            "Flight_Delay.ipynb\tflight_delays_train.csv\n",
            "flight_delays_test.csv\tREADME.md.gdoc\n"
          ],
          "name": "stdout"
        }
      ]
    },
    {
      "metadata": {
        "id": "Y8sLPk89lFcP",
        "colab_type": "code",
        "colab": {}
      },
      "cell_type": "code",
      "source": [
        "import warnings\n",
        "warnings.filterwarnings('ignore')\n",
        "import numpy as np\n",
        "%matplotlib inline\n",
        "import matplotlib.lines as mlines\n",
        "import pandas as pd\n",
        "import seaborn as sns\n",
        "import os\n",
        "\n",
        "import matplotlib.pyplot as plt\n",
        "import datetime as dt\n",
        "from scipy import stats\n",
        "from scipy.stats import norm\n",
        "\n",
        "pd.options.display.float_format = '{:.0f}'.format\n",
        "\n",
        "from sklearn.preprocessing import StandardScaler\n",
        "from sklearn.pipeline import Pipeline\n",
        "from sklearn.model_selection import train_test_split\n",
        "from sklearn.linear_model import LogisticRegression\n",
        "from sklearn.metrics import roc_auc_score"
      ],
      "execution_count": 0,
      "outputs": []
    },
    {
      "metadata": {
        "id": "Yr8Ia4wPn159",
        "colab_type": "code",
        "outputId": "b7b25a5a-9ea2-43ec-ca4b-e469a579497f",
        "colab": {
          "base_uri": "https://localhost:8080/",
          "height": 833
        }
      },
      "cell_type": "code",
      "source": [
        "!apt-get install software-properties-common \n",
        "!add-apt-repository -y ppa:alessandro-strada/ppa \n",
        "!apt-get update \n",
        "!apt-get -y install -qq google-drive-ocamlfuse fuse"
      ],
      "execution_count": 53,
      "outputs": [
        {
          "output_type": "stream",
          "text": [
            "Reading package lists... Done\n",
            "Building dependency tree       \n",
            "Reading state information... Done\n",
            "The following additional packages will be installed:\n",
            "  python3-software-properties\n",
            "Recommended packages:\n",
            "  unattended-upgrades\n",
            "The following packages will be upgraded:\n",
            "  python3-software-properties software-properties-common\n",
            "2 upgraded, 0 newly installed, 0 to remove and 11 not upgraded.\n",
            "Need to get 32.0 kB of archives.\n",
            "After this operation, 0 B of additional disk space will be used.\n",
            "Get:1 http://archive.ubuntu.com/ubuntu bionic-updates/main amd64 software-properties-common all 0.96.24.32.6 [9,916 B]\n",
            "Get:2 http://archive.ubuntu.com/ubuntu bionic-updates/main amd64 python3-software-properties all 0.96.24.32.6 [22.1 kB]\n",
            "Fetched 32.0 kB in 1s (61.1 kB/s)\n",
            "(Reading database ... 110382 files and directories currently installed.)\n",
            "Preparing to unpack .../software-properties-common_0.96.24.32.6_all.deb ...\n",
            "Unpacking software-properties-common (0.96.24.32.6) over (0.96.24.32.5) ...\n",
            "Preparing to unpack .../python3-software-properties_0.96.24.32.6_all.deb ...\n",
            "Unpacking python3-software-properties (0.96.24.32.6) over (0.96.24.32.5) ...\n",
            "Processing triggers for man-db (2.8.3-2ubuntu0.1) ...\n",
            "Setting up python3-software-properties (0.96.24.32.6) ...\n",
            "Processing triggers for dbus (1.12.2-1ubuntu1) ...\n",
            "Setting up software-properties-common (0.96.24.32.6) ...\n",
            "Ign:1 https://developer.download.nvidia.com/compute/cuda/repos/ubuntu1710/x86_64  InRelease\n",
            "Ign:2 https://developer.download.nvidia.com/compute/machine-learning/repos/ubuntu1604/x86_64  InRelease\n",
            "Hit:3 https://developer.download.nvidia.com/compute/cuda/repos/ubuntu1710/x86_64  Release\n",
            "Hit:4 https://developer.download.nvidia.com/compute/machine-learning/repos/ubuntu1604/x86_64  Release\n",
            "Hit:5 http://archive.ubuntu.com/ubuntu bionic InRelease\n",
            "Get:6 http://security.ubuntu.com/ubuntu bionic-security InRelease [83.2 kB]\n",
            "Hit:7 http://ppa.launchpad.net/alessandro-strada/ppa/ubuntu bionic InRelease\n",
            "Get:9 http://archive.ubuntu.com/ubuntu bionic-updates InRelease [88.7 kB]\n",
            "Hit:11 http://ppa.launchpad.net/graphics-drivers/ppa/ubuntu bionic InRelease\n",
            "Get:12 http://archive.ubuntu.com/ubuntu bionic-backports InRelease [74.6 kB]\n",
            "Fetched 247 kB in 2s (137 kB/s)\n",
            "Reading package lists... Done\n",
            "Ign:1 https://developer.download.nvidia.com/compute/cuda/repos/ubuntu1710/x86_64  InRelease\n",
            "Ign:2 https://developer.download.nvidia.com/compute/machine-learning/repos/ubuntu1604/x86_64  InRelease\n",
            "Hit:3 https://developer.download.nvidia.com/compute/cuda/repos/ubuntu1710/x86_64  Release\n",
            "Hit:4 https://developer.download.nvidia.com/compute/machine-learning/repos/ubuntu1604/x86_64  Release\n",
            "Hit:5 http://archive.ubuntu.com/ubuntu bionic InRelease\n",
            "Get:6 http://security.ubuntu.com/ubuntu bionic-security InRelease [83.2 kB]\n",
            "Hit:7 http://ppa.launchpad.net/alessandro-strada/ppa/ubuntu bionic InRelease\n",
            "Get:9 http://archive.ubuntu.com/ubuntu bionic-updates InRelease [88.7 kB]\n",
            "Hit:11 http://ppa.launchpad.net/graphics-drivers/ppa/ubuntu bionic InRelease\n",
            "Get:12 http://archive.ubuntu.com/ubuntu bionic-backports InRelease [74.6 kB]\n",
            "Fetched 247 kB in 2s (140 kB/s)\n",
            "Reading package lists... Done\n"
          ],
          "name": "stdout"
        }
      ]
    },
    {
      "metadata": {
        "id": "_k68cmaioHaK",
        "colab_type": "code",
        "colab": {}
      },
      "cell_type": "code",
      "source": [
        "from oauth2client.client import GoogleCredentials\n",
        "creds = GoogleCredentials.get_application_default()"
      ],
      "execution_count": 0,
      "outputs": []
    },
    {
      "metadata": {
        "id": "-FhqoLUXoKaz",
        "colab_type": "code",
        "colab": {}
      },
      "cell_type": "code",
      "source": [
        "import getpass\n",
        "!google-drive-ocamlfuse -headless -id={creds.client_id} -secret={creds.client_secret} < /dev/null 2>&1 | grep URL"
      ],
      "execution_count": 0,
      "outputs": []
    },
    {
      "metadata": {
        "id": "C170DEaJoQnm",
        "colab_type": "code",
        "outputId": "adf67c69-9dd5-4a0e-b2c9-438e8f78adf3",
        "colab": {
          "base_uri": "https://localhost:8080/",
          "height": 34
        }
      },
      "cell_type": "code",
      "source": [
        "vcode = getpass.getpass()"
      ],
      "execution_count": 57,
      "outputs": [
        {
          "output_type": "stream",
          "text": [
            "··········\n"
          ],
          "name": "stdout"
        }
      ]
    },
    {
      "metadata": {
        "id": "zjwJpXXPoW6W",
        "colab_type": "code",
        "colab": {}
      },
      "cell_type": "code",
      "source": [
        "!echo {vcode} | google-drive-ocamlfuse -headless -id={creds.client_id} -secret={creds.client_secret}"
      ],
      "execution_count": 0,
      "outputs": []
    },
    {
      "metadata": {
        "id": "eedii-daoBeO",
        "colab_type": "code",
        "colab": {
          "base_uri": "https://localhost:8080/",
          "height": 51
        },
        "outputId": "e22a42a6-d3ad-4480-971a-d2fd99594bc1"
      },
      "cell_type": "code",
      "source": [
        "!mkdir -p mydrive\n",
        "!google-drive-ocamlfuse mydrive"
      ],
      "execution_count": 59,
      "outputs": [
        {
          "output_type": "stream",
          "text": [
            "fuse: mountpoint is not empty\n",
            "fuse: if you are sure this is safe, use the 'nonempty' mount option\n"
          ],
          "name": "stdout"
        }
      ]
    },
    {
      "metadata": {
        "id": "_F6Sd2evocjd",
        "colab_type": "code",
        "outputId": "d6e2c1cc-51da-42f1-acf3-58531fbdaaef",
        "colab": {
          "base_uri": "https://localhost:8080/",
          "height": 51
        }
      },
      "cell_type": "code",
      "source": [
        "!ls mydrive/Datasets/Flight_Delay/"
      ],
      "execution_count": 60,
      "outputs": [
        {
          "output_type": "stream",
          "text": [
            "Flight_Delay.ipynb\tflight_delays_train.csv\n",
            "flight_delays_test.csv\tREADME.md.odt\n"
          ],
          "name": "stdout"
        }
      ]
    },
    {
      "metadata": {
        "id": "jsQBNavol3Uk",
        "colab_type": "code",
        "colab": {}
      },
      "cell_type": "code",
      "source": [
        "train = pd.read_csv(\"mydrive/Datasets/Flight_Delay/flight_delays_train.csv\")\n",
        "test_df = pd.read_csv(\"mydrive/Datasets/Flight_Delay/flight_delays_test.csv\")"
      ],
      "execution_count": 0,
      "outputs": []
    },
    {
      "metadata": {
        "id": "xSDOBjVzmLO0",
        "colab_type": "code",
        "outputId": "509d2935-73e6-42ea-99ff-b7dc3b503b6c",
        "colab": {
          "base_uri": "https://localhost:8080/",
          "height": 204
        }
      },
      "cell_type": "code",
      "source": [
        "train.head()"
      ],
      "execution_count": 62,
      "outputs": [
        {
          "output_type": "execute_result",
          "data": {
            "text/html": [
              "<div>\n",
              "<style scoped>\n",
              "    .dataframe tbody tr th:only-of-type {\n",
              "        vertical-align: middle;\n",
              "    }\n",
              "\n",
              "    .dataframe tbody tr th {\n",
              "        vertical-align: top;\n",
              "    }\n",
              "\n",
              "    .dataframe thead th {\n",
              "        text-align: right;\n",
              "    }\n",
              "</style>\n",
              "<table border=\"1\" class=\"dataframe\">\n",
              "  <thead>\n",
              "    <tr style=\"text-align: right;\">\n",
              "      <th></th>\n",
              "      <th>Month</th>\n",
              "      <th>DayofMonth</th>\n",
              "      <th>DayOfWeek</th>\n",
              "      <th>DepTime</th>\n",
              "      <th>UniqueCarrier</th>\n",
              "      <th>Origin</th>\n",
              "      <th>Dest</th>\n",
              "      <th>Distance</th>\n",
              "      <th>dep_delayed_15min</th>\n",
              "    </tr>\n",
              "  </thead>\n",
              "  <tbody>\n",
              "    <tr>\n",
              "      <th>0</th>\n",
              "      <td>c-8</td>\n",
              "      <td>c-21</td>\n",
              "      <td>c-7</td>\n",
              "      <td>1934</td>\n",
              "      <td>AA</td>\n",
              "      <td>ATL</td>\n",
              "      <td>DFW</td>\n",
              "      <td>732</td>\n",
              "      <td>N</td>\n",
              "    </tr>\n",
              "    <tr>\n",
              "      <th>1</th>\n",
              "      <td>c-4</td>\n",
              "      <td>c-20</td>\n",
              "      <td>c-3</td>\n",
              "      <td>1548</td>\n",
              "      <td>US</td>\n",
              "      <td>PIT</td>\n",
              "      <td>MCO</td>\n",
              "      <td>834</td>\n",
              "      <td>N</td>\n",
              "    </tr>\n",
              "    <tr>\n",
              "      <th>2</th>\n",
              "      <td>c-9</td>\n",
              "      <td>c-2</td>\n",
              "      <td>c-5</td>\n",
              "      <td>1422</td>\n",
              "      <td>XE</td>\n",
              "      <td>RDU</td>\n",
              "      <td>CLE</td>\n",
              "      <td>416</td>\n",
              "      <td>N</td>\n",
              "    </tr>\n",
              "    <tr>\n",
              "      <th>3</th>\n",
              "      <td>c-11</td>\n",
              "      <td>c-25</td>\n",
              "      <td>c-6</td>\n",
              "      <td>1015</td>\n",
              "      <td>OO</td>\n",
              "      <td>DEN</td>\n",
              "      <td>MEM</td>\n",
              "      <td>872</td>\n",
              "      <td>N</td>\n",
              "    </tr>\n",
              "    <tr>\n",
              "      <th>4</th>\n",
              "      <td>c-10</td>\n",
              "      <td>c-7</td>\n",
              "      <td>c-6</td>\n",
              "      <td>1828</td>\n",
              "      <td>WN</td>\n",
              "      <td>MDW</td>\n",
              "      <td>OMA</td>\n",
              "      <td>423</td>\n",
              "      <td>Y</td>\n",
              "    </tr>\n",
              "  </tbody>\n",
              "</table>\n",
              "</div>"
            ],
            "text/plain": [
              "  Month DayofMonth DayOfWeek  DepTime UniqueCarrier Origin Dest  Distance  \\\n",
              "0   c-8       c-21       c-7     1934            AA    ATL  DFW       732   \n",
              "1   c-4       c-20       c-3     1548            US    PIT  MCO       834   \n",
              "2   c-9        c-2       c-5     1422            XE    RDU  CLE       416   \n",
              "3  c-11       c-25       c-6     1015            OO    DEN  MEM       872   \n",
              "4  c-10        c-7       c-6     1828            WN    MDW  OMA       423   \n",
              "\n",
              "  dep_delayed_15min  \n",
              "0                 N  \n",
              "1                 N  \n",
              "2                 N  \n",
              "3                 N  \n",
              "4                 Y  "
            ]
          },
          "metadata": {
            "tags": []
          },
          "execution_count": 62
        }
      ]
    },
    {
      "metadata": {
        "id": "_r7mM85DfkLC",
        "colab_type": "code",
        "colab": {
          "base_uri": "https://localhost:8080/",
          "height": 204
        },
        "outputId": "3481986b-3ded-41a9-b265-273bc4c9017b"
      },
      "cell_type": "code",
      "source": [
        "test_df.head()"
      ],
      "execution_count": 63,
      "outputs": [
        {
          "output_type": "execute_result",
          "data": {
            "text/html": [
              "<div>\n",
              "<style scoped>\n",
              "    .dataframe tbody tr th:only-of-type {\n",
              "        vertical-align: middle;\n",
              "    }\n",
              "\n",
              "    .dataframe tbody tr th {\n",
              "        vertical-align: top;\n",
              "    }\n",
              "\n",
              "    .dataframe thead th {\n",
              "        text-align: right;\n",
              "    }\n",
              "</style>\n",
              "<table border=\"1\" class=\"dataframe\">\n",
              "  <thead>\n",
              "    <tr style=\"text-align: right;\">\n",
              "      <th></th>\n",
              "      <th>Month</th>\n",
              "      <th>DayofMonth</th>\n",
              "      <th>DayOfWeek</th>\n",
              "      <th>DepTime</th>\n",
              "      <th>UniqueCarrier</th>\n",
              "      <th>Origin</th>\n",
              "      <th>Dest</th>\n",
              "      <th>Distance</th>\n",
              "    </tr>\n",
              "  </thead>\n",
              "  <tbody>\n",
              "    <tr>\n",
              "      <th>0</th>\n",
              "      <td>c-7</td>\n",
              "      <td>c-25</td>\n",
              "      <td>c-3</td>\n",
              "      <td>615</td>\n",
              "      <td>YV</td>\n",
              "      <td>MRY</td>\n",
              "      <td>PHX</td>\n",
              "      <td>598</td>\n",
              "    </tr>\n",
              "    <tr>\n",
              "      <th>1</th>\n",
              "      <td>c-4</td>\n",
              "      <td>c-17</td>\n",
              "      <td>c-2</td>\n",
              "      <td>739</td>\n",
              "      <td>WN</td>\n",
              "      <td>LAS</td>\n",
              "      <td>HOU</td>\n",
              "      <td>1235</td>\n",
              "    </tr>\n",
              "    <tr>\n",
              "      <th>2</th>\n",
              "      <td>c-12</td>\n",
              "      <td>c-2</td>\n",
              "      <td>c-7</td>\n",
              "      <td>651</td>\n",
              "      <td>MQ</td>\n",
              "      <td>GSP</td>\n",
              "      <td>ORD</td>\n",
              "      <td>577</td>\n",
              "    </tr>\n",
              "    <tr>\n",
              "      <th>3</th>\n",
              "      <td>c-3</td>\n",
              "      <td>c-25</td>\n",
              "      <td>c-7</td>\n",
              "      <td>1614</td>\n",
              "      <td>WN</td>\n",
              "      <td>BWI</td>\n",
              "      <td>MHT</td>\n",
              "      <td>377</td>\n",
              "    </tr>\n",
              "    <tr>\n",
              "      <th>4</th>\n",
              "      <td>c-6</td>\n",
              "      <td>c-6</td>\n",
              "      <td>c-3</td>\n",
              "      <td>1505</td>\n",
              "      <td>UA</td>\n",
              "      <td>ORD</td>\n",
              "      <td>STL</td>\n",
              "      <td>258</td>\n",
              "    </tr>\n",
              "  </tbody>\n",
              "</table>\n",
              "</div>"
            ],
            "text/plain": [
              "  Month DayofMonth DayOfWeek  DepTime UniqueCarrier Origin Dest  Distance\n",
              "0   c-7       c-25       c-3      615            YV    MRY  PHX       598\n",
              "1   c-4       c-17       c-2      739            WN    LAS  HOU      1235\n",
              "2  c-12        c-2       c-7      651            MQ    GSP  ORD       577\n",
              "3   c-3       c-25       c-7     1614            WN    BWI  MHT       377\n",
              "4   c-6        c-6       c-3     1505            UA    ORD  STL       258"
            ]
          },
          "metadata": {
            "tags": []
          },
          "execution_count": 63
        }
      ]
    },
    {
      "metadata": {
        "id": "XblKs4oion6Q",
        "colab_type": "code",
        "outputId": "90688b92-ece6-4ca9-89aa-173f2f8c2fba",
        "colab": {
          "base_uri": "https://localhost:8080/",
          "height": 34
        }
      },
      "cell_type": "code",
      "source": [
        "train.shape, test_df.shape"
      ],
      "execution_count": 64,
      "outputs": [
        {
          "output_type": "execute_result",
          "data": {
            "text/plain": [
              "((100000, 9), (100000, 8))"
            ]
          },
          "metadata": {
            "tags": []
          },
          "execution_count": 64
        }
      ]
    },
    {
      "metadata": {
        "id": "UzGh76O1oq8P",
        "colab_type": "code",
        "outputId": "a51e9fa0-3f78-4a78-82dd-45391bead348",
        "colab": {
          "base_uri": "https://localhost:8080/",
          "height": 297
        }
      },
      "cell_type": "code",
      "source": [
        "train.describe()"
      ],
      "execution_count": 65,
      "outputs": [
        {
          "output_type": "execute_result",
          "data": {
            "text/html": [
              "<div>\n",
              "<style scoped>\n",
              "    .dataframe tbody tr th:only-of-type {\n",
              "        vertical-align: middle;\n",
              "    }\n",
              "\n",
              "    .dataframe tbody tr th {\n",
              "        vertical-align: top;\n",
              "    }\n",
              "\n",
              "    .dataframe thead th {\n",
              "        text-align: right;\n",
              "    }\n",
              "</style>\n",
              "<table border=\"1\" class=\"dataframe\">\n",
              "  <thead>\n",
              "    <tr style=\"text-align: right;\">\n",
              "      <th></th>\n",
              "      <th>DepTime</th>\n",
              "      <th>Distance</th>\n",
              "    </tr>\n",
              "  </thead>\n",
              "  <tbody>\n",
              "    <tr>\n",
              "      <th>count</th>\n",
              "      <td>100000</td>\n",
              "      <td>100000</td>\n",
              "    </tr>\n",
              "    <tr>\n",
              "      <th>mean</th>\n",
              "      <td>1342</td>\n",
              "      <td>729</td>\n",
              "    </tr>\n",
              "    <tr>\n",
              "      <th>std</th>\n",
              "      <td>476</td>\n",
              "      <td>575</td>\n",
              "    </tr>\n",
              "    <tr>\n",
              "      <th>min</th>\n",
              "      <td>1</td>\n",
              "      <td>30</td>\n",
              "    </tr>\n",
              "    <tr>\n",
              "      <th>25%</th>\n",
              "      <td>931</td>\n",
              "      <td>317</td>\n",
              "    </tr>\n",
              "    <tr>\n",
              "      <th>50%</th>\n",
              "      <td>1330</td>\n",
              "      <td>575</td>\n",
              "    </tr>\n",
              "    <tr>\n",
              "      <th>75%</th>\n",
              "      <td>1733</td>\n",
              "      <td>957</td>\n",
              "    </tr>\n",
              "    <tr>\n",
              "      <th>max</th>\n",
              "      <td>2534</td>\n",
              "      <td>4962</td>\n",
              "    </tr>\n",
              "  </tbody>\n",
              "</table>\n",
              "</div>"
            ],
            "text/plain": [
              "       DepTime  Distance\n",
              "count   100000    100000\n",
              "mean      1342       729\n",
              "std        476       575\n",
              "min          1        30\n",
              "25%        931       317\n",
              "50%       1330       575\n",
              "75%       1733       957\n",
              "max       2534      4962"
            ]
          },
          "metadata": {
            "tags": []
          },
          "execution_count": 65
        }
      ]
    },
    {
      "metadata": {
        "id": "sFbV66CGosnI",
        "colab_type": "code",
        "outputId": "f7ce916c-4ebc-47f2-b930-11f3d0d12409",
        "colab": {
          "base_uri": "https://localhost:8080/",
          "height": 537
        }
      },
      "cell_type": "code",
      "source": [
        "# Correlation matrix\n",
        "corr_mat = train.corr()\n",
        "f, ax = plt.subplots(figsize=(12, 9))\n",
        "sns.heatmap(corr_mat, vmax=.8, square=True);\n",
        "plt.show()"
      ],
      "execution_count": 66,
      "outputs": [
        {
          "output_type": "display_data",
          "data": {
            "image/png": "[encoded data removed]",
            "text/plain": [
              "<matplotlib.figure.Figure at 0x7f80671870f0>"
            ]
          },
          "metadata": {
            "tags": []
          }
        }
      ]
    },
    {
      "metadata": {
        "id": "sUXZebIFqiAp",
        "colab_type": "code",
        "outputId": "38da5ac2-0dec-4bd9-cb46-86424f7bbaec",
        "colab": {
          "base_uri": "https://localhost:8080/",
          "height": 297
        }
      },
      "cell_type": "code",
      "source": [
        "test_df.describe()"
      ],
      "execution_count": 67,
      "outputs": [
        {
          "output_type": "execute_result",
          "data": {
            "text/html": [
              "<div>\n",
              "<style scoped>\n",
              "    .dataframe tbody tr th:only-of-type {\n",
              "        vertical-align: middle;\n",
              "    }\n",
              "\n",
              "    .dataframe tbody tr th {\n",
              "        vertical-align: top;\n",
              "    }\n",
              "\n",
              "    .dataframe thead th {\n",
              "        text-align: right;\n",
              "    }\n",
              "</style>\n",
              "<table border=\"1\" class=\"dataframe\">\n",
              "  <thead>\n",
              "    <tr style=\"text-align: right;\">\n",
              "      <th></th>\n",
              "      <th>DepTime</th>\n",
              "      <th>Distance</th>\n",
              "    </tr>\n",
              "  </thead>\n",
              "  <tbody>\n",
              "    <tr>\n",
              "      <th>count</th>\n",
              "      <td>100000</td>\n",
              "      <td>100000</td>\n",
              "    </tr>\n",
              "    <tr>\n",
              "      <th>mean</th>\n",
              "      <td>1339</td>\n",
              "      <td>723</td>\n",
              "    </tr>\n",
              "    <tr>\n",
              "      <th>std</th>\n",
              "      <td>481</td>\n",
              "      <td>563</td>\n",
              "    </tr>\n",
              "    <tr>\n",
              "      <th>min</th>\n",
              "      <td>1</td>\n",
              "      <td>31</td>\n",
              "    </tr>\n",
              "    <tr>\n",
              "      <th>25%</th>\n",
              "      <td>928</td>\n",
              "      <td>321</td>\n",
              "    </tr>\n",
              "    <tr>\n",
              "      <th>50%</th>\n",
              "      <td>1329</td>\n",
              "      <td>574</td>\n",
              "    </tr>\n",
              "    <tr>\n",
              "      <th>75%</th>\n",
              "      <td>1733</td>\n",
              "      <td>948</td>\n",
              "    </tr>\n",
              "    <tr>\n",
              "      <th>max</th>\n",
              "      <td>2400</td>\n",
              "      <td>4962</td>\n",
              "    </tr>\n",
              "  </tbody>\n",
              "</table>\n",
              "</div>"
            ],
            "text/plain": [
              "       DepTime  Distance\n",
              "count   100000    100000\n",
              "mean      1339       723\n",
              "std        481       563\n",
              "min          1        31\n",
              "25%        928       321\n",
              "50%       1329       574\n",
              "75%       1733       948\n",
              "max       2400      4962"
            ]
          },
          "metadata": {
            "tags": []
          },
          "execution_count": 67
        }
      ]
    },
    {
      "metadata": {
        "id": "jYu4AjP6quP8",
        "colab_type": "code",
        "outputId": "b3da5991-c505-4d6a-b9de-47e72effb03d",
        "colab": {
          "base_uri": "https://localhost:8080/",
          "height": 537
        }
      },
      "cell_type": "code",
      "source": [
        "# Correlation matrix\n",
        "corr_mat = test_df.corr()\n",
        "f, ax = plt.subplots(figsize=(12, 9))\n",
        "sns.heatmap(corr_mat, vmax=.8, square=True);\n",
        "plt.show()"
      ],
      "execution_count": 68,
      "outputs": [
        {
          "output_type": "display_data",
          "data": {
            "image/png": "[encoded data removed]",
            "text/plain": [
              "<matplotlib.figure.Figure at 0x7f8067180c88>"
            ]
          },
          "metadata": {
            "tags": []
          }
        }
      ]
    },
    {
      "metadata": {
        "id": "OvrUVseEglbR",
        "colab_type": "text"
      },
      "cell_type": "markdown",
      "source": [
        "# LightGBM Baseline"
      ]
    },
    {
      "metadata": {
        "id": "DU3pupqeo7Pd",
        "colab_type": "code",
        "colab": {}
      },
      "cell_type": "code",
      "source": [
        "from sklearn.metrics import confusion_matrix, accuracy_score\n",
        "from sklearn.ensemble import RandomForestClassifier\n",
        "from sklearn.model_selection import GridSearchCV"
      ],
      "execution_count": 0,
      "outputs": []
    },
    {
      "metadata": {
        "id": "rQ6E3B3ArIkm",
        "colab_type": "code",
        "outputId": "37c0bd60-1643-4208-fb7c-8a8424004ec0",
        "colab": {
          "base_uri": "https://localhost:8080/",
          "height": 85
        }
      },
      "cell_type": "code",
      "source": [
        "!pip install lightgbm"
      ],
      "execution_count": 70,
      "outputs": [
        {
          "output_type": "stream",
          "text": [
            "Requirement already satisfied: lightgbm in /usr/local/lib/python3.6/dist-packages (2.2.2)\n",
            "Requirement already satisfied: scipy in /usr/local/lib/python3.6/dist-packages (from lightgbm) (1.1.0)\n",
            "Requirement already satisfied: numpy in /usr/local/lib/python3.6/dist-packages (from lightgbm) (1.14.6)\n",
            "Requirement already satisfied: scikit-learn in /usr/local/lib/python3.6/dist-packages (from lightgbm) (0.20.1)\n"
          ],
          "name": "stdout"
        }
      ]
    },
    {
      "metadata": {
        "id": "f6cwC3kCrMco",
        "colab_type": "code",
        "colab": {}
      },
      "cell_type": "code",
      "source": [
        "import lightgbm as lgb"
      ],
      "execution_count": 0,
      "outputs": []
    },
    {
      "metadata": {
        "id": "2Zsa5jZcrQMW",
        "colab_type": "code",
        "colab": {}
      },
      "cell_type": "code",
      "source": [
        "train['DayOfWeek'] = train.DayOfWeek.apply(lambda x: int(x.split('-')[1]))\n",
        "train['Month'] = train.Month.apply(lambda x: int(x.split('-')[1]))\n",
        "train['DayofMonth'] = train.DayofMonth.apply(lambda x: int(x.split('-')[1]))\n",
        "\n",
        "train['dep_delayed_15min'] = train.dep_delayed_15min.apply(lambda x: 1 if x == 'Y' else 0)\n",
        "\n",
        "origin_list = train.Origin.value_counts().head(10).index.tolist()\n",
        "train['Origin'] = train.Origin.apply(lambda x: x if x in origin_list else 'other')\n",
        "\n",
        "dest_list = train.Dest.value_counts().head(10).index.tolist()\n",
        "train['Dest'] = train.Dest.apply(lambda x: x if x in dest_list else 'other')\n",
        "\n",
        "carriers_list = train.UniqueCarrier.value_counts().head(10).index.tolist()\n",
        "train['UniqueCarrier'] = train.UniqueCarrier.apply(lambda x: x if x in carriers_list else 'other')\n",
        "\n",
        "train = pd.get_dummies(train)"
      ],
      "execution_count": 0,
      "outputs": []
    },
    {
      "metadata": {
        "id": "I68ZWxcQriTM",
        "colab_type": "code",
        "colab": {
          "base_uri": "https://localhost:8080/",
          "height": 34
        },
        "outputId": "29a1b674-1f78-4955-85f5-b1bce8904a05"
      },
      "cell_type": "code",
      "source": [
        "X_train, X_test, y_train, y_test = train_test_split(train.drop(['dep_delayed_15min'],axis=1), train.dep_delayed_15min, \n",
        "                                                    test_size=0.33, random_state=99, stratify=train.dep_delayed_15min)\n",
        "\n",
        "clf = RandomForestClassifier(n_estimators=100, max_depth=10)\n",
        "\n",
        "clf.fit(X_train, y_train)\n",
        "y_pred = clf.predict(X_test)\n",
        "print(accuracy_score(y_pred, y_test))"
      ],
      "execution_count": 73,
      "outputs": [
        {
          "output_type": "stream",
          "text": [
            "0.8107272727272727\n"
          ],
          "name": "stdout"
        }
      ]
    },
    {
      "metadata": {
        "id": "lIN5qO1ChJUE",
        "colab_type": "code",
        "colab": {
          "base_uri": "https://localhost:8080/",
          "height": 51
        },
        "outputId": "52006543-32a3-4ec1-977e-c57586df0883"
      },
      "cell_type": "code",
      "source": [
        "print(confusion_matrix(y_pred, y_test))"
      ],
      "execution_count": 74,
      "outputs": [
        {
          "output_type": "stream",
          "text": [
            "[[26711  6242]\n",
            " [    4    43]]\n"
          ],
          "name": "stdout"
        }
      ]
    },
    {
      "metadata": {
        "id": "i7jnGNwFhZip",
        "colab_type": "code",
        "colab": {
          "base_uri": "https://localhost:8080/",
          "height": 34
        },
        "outputId": "15c4df67-390e-4a6d-92b8-6b074c38aa44"
      },
      "cell_type": "code",
      "source": [
        "roc_auc_score(y_test, clf.predict_proba(X_test)[:, 1])"
      ],
      "execution_count": 75,
      "outputs": [
        {
          "output_type": "execute_result",
          "data": {
            "text/plain": [
              "0.7229797632602364"
            ]
          },
          "metadata": {
            "tags": []
          },
          "execution_count": 75
        }
      ]
    },
    {
      "metadata": {
        "id": "RmykCbSwhiTy",
        "colab_type": "code",
        "colab": {
          "base_uri": "https://localhost:8080/",
          "height": 2584
        },
        "outputId": "d6e70d07-f06e-4f23-c20a-653f99d2d822"
      },
      "cell_type": "code",
      "source": [
        "gbm = lgb.LGBMClassifier(n_estimators=200,)\n",
        "gbm.fit(X_train, y_train,\n",
        "        eval_set=[(X_test, y_test)],\n",
        "        eval_metric='l1',\n",
        "        early_stopping_rounds=5)"
      ],
      "execution_count": 78,
      "outputs": [
        {
          "output_type": "stream",
          "text": [
            "[1]\tvalid_0's binary_logloss: 0.478424\tvalid_0's l1: 0.30563\n",
            "Training until validation scores don't improve for 5 rounds.\n",
            "[2]\tvalid_0's binary_logloss: 0.471939\tvalid_0's l1: 0.303198\n",
            "[3]\tvalid_0's binary_logloss: 0.466567\tvalid_0's l1: 0.300933\n",
            "[4]\tvalid_0's binary_logloss: 0.462277\tvalid_0's l1: 0.298907\n",
            "[5]\tvalid_0's binary_logloss: 0.458583\tvalid_0's l1: 0.297018\n",
            "[6]\tvalid_0's binary_logloss: 0.45535\tvalid_0's l1: 0.295265\n",
            "[7]\tvalid_0's binary_logloss: 0.452557\tvalid_0's l1: 0.293672\n",
            "[8]\tvalid_0's binary_logloss: 0.450311\tvalid_0's l1: 0.292247\n",
            "[9]\tvalid_0's binary_logloss: 0.448336\tvalid_0's l1: 0.290949\n",
            "[10]\tvalid_0's binary_logloss: 0.446712\tvalid_0's l1: 0.289749\n",
            "[11]\tvalid_0's binary_logloss: 0.445081\tvalid_0's l1: 0.288536\n",
            "[12]\tvalid_0's binary_logloss: 0.443788\tvalid_0's l1: 0.287486\n",
            "[13]\tvalid_0's binary_logloss: 0.442516\tvalid_0's l1: 0.286572\n",
            "[14]\tvalid_0's binary_logloss: 0.441434\tvalid_0's l1: 0.285605\n",
            "[15]\tvalid_0's binary_logloss: 0.4406\tvalid_0's l1: 0.28488\n",
            "[16]\tvalid_0's binary_logloss: 0.439769\tvalid_0's l1: 0.284136\n",
            "[17]\tvalid_0's binary_logloss: 0.439014\tvalid_0's l1: 0.283492\n",
            "[18]\tvalid_0's binary_logloss: 0.438199\tvalid_0's l1: 0.28278\n",
            "[19]\tvalid_0's binary_logloss: 0.437472\tvalid_0's l1: 0.282187\n",
            "[20]\tvalid_0's binary_logloss: 0.436695\tvalid_0's l1: 0.281609\n",
            "[21]\tvalid_0's binary_logloss: 0.436062\tvalid_0's l1: 0.281091\n",
            "[22]\tvalid_0's binary_logloss: 0.435384\tvalid_0's l1: 0.280453\n",
            "[23]\tvalid_0's binary_logloss: 0.434793\tvalid_0's l1: 0.27996\n",
            "[24]\tvalid_0's binary_logloss: 0.434432\tvalid_0's l1: 0.279549\n",
            "[25]\tvalid_0's binary_logloss: 0.433981\tvalid_0's l1: 0.279065\n",
            "[26]\tvalid_0's binary_logloss: 0.433576\tvalid_0's l1: 0.278702\n",
            "[27]\tvalid_0's binary_logloss: 0.433102\tvalid_0's l1: 0.278287\n",
            "[28]\tvalid_0's binary_logloss: 0.432793\tvalid_0's l1: 0.27796\n",
            "[29]\tvalid_0's binary_logloss: 0.432445\tvalid_0's l1: 0.277673\n",
            "[30]\tvalid_0's binary_logloss: 0.432166\tvalid_0's l1: 0.277397\n",
            "[31]\tvalid_0's binary_logloss: 0.431895\tvalid_0's l1: 0.277102\n",
            "[32]\tvalid_0's binary_logloss: 0.43155\tvalid_0's l1: 0.276845\n",
            "[33]\tvalid_0's binary_logloss: 0.431386\tvalid_0's l1: 0.276622\n",
            "[34]\tvalid_0's binary_logloss: 0.431116\tvalid_0's l1: 0.276408\n",
            "[35]\tvalid_0's binary_logloss: 0.43067\tvalid_0's l1: 0.276127\n",
            "[36]\tvalid_0's binary_logloss: 0.430424\tvalid_0's l1: 0.275847\n",
            "[37]\tvalid_0's binary_logloss: 0.430132\tvalid_0's l1: 0.275655\n",
            "[38]\tvalid_0's binary_logloss: 0.429901\tvalid_0's l1: 0.275452\n",
            "[39]\tvalid_0's binary_logloss: 0.429741\tvalid_0's l1: 0.275278\n",
            "[40]\tvalid_0's binary_logloss: 0.42953\tvalid_0's l1: 0.275135\n",
            "[41]\tvalid_0's binary_logloss: 0.429404\tvalid_0's l1: 0.274972\n",
            "[42]\tvalid_0's binary_logloss: 0.429187\tvalid_0's l1: 0.274794\n",
            "[43]\tvalid_0's binary_logloss: 0.429111\tvalid_0's l1: 0.274661\n",
            "[44]\tvalid_0's binary_logloss: 0.428826\tvalid_0's l1: 0.274462\n",
            "[45]\tvalid_0's binary_logloss: 0.428663\tvalid_0's l1: 0.274316\n",
            "[46]\tvalid_0's binary_logloss: 0.428614\tvalid_0's l1: 0.274247\n",
            "[47]\tvalid_0's binary_logloss: 0.428449\tvalid_0's l1: 0.274125\n",
            "[48]\tvalid_0's binary_logloss: 0.428231\tvalid_0's l1: 0.273919\n",
            "[49]\tvalid_0's binary_logloss: 0.4282\tvalid_0's l1: 0.273865\n",
            "[50]\tvalid_0's binary_logloss: 0.428185\tvalid_0's l1: 0.27381\n",
            "[51]\tvalid_0's binary_logloss: 0.428014\tvalid_0's l1: 0.273639\n",
            "[52]\tvalid_0's binary_logloss: 0.427899\tvalid_0's l1: 0.273535\n",
            "[53]\tvalid_0's binary_logloss: 0.427876\tvalid_0's l1: 0.273474\n",
            "[54]\tvalid_0's binary_logloss: 0.42784\tvalid_0's l1: 0.273401\n",
            "[55]\tvalid_0's binary_logloss: 0.427777\tvalid_0's l1: 0.273304\n",
            "[56]\tvalid_0's binary_logloss: 0.427729\tvalid_0's l1: 0.273243\n",
            "[57]\tvalid_0's binary_logloss: 0.427623\tvalid_0's l1: 0.273193\n",
            "[58]\tvalid_0's binary_logloss: 0.42756\tvalid_0's l1: 0.273141\n",
            "[59]\tvalid_0's binary_logloss: 0.427355\tvalid_0's l1: 0.272985\n",
            "[60]\tvalid_0's binary_logloss: 0.427281\tvalid_0's l1: 0.272895\n",
            "[61]\tvalid_0's binary_logloss: 0.427173\tvalid_0's l1: 0.272823\n",
            "[62]\tvalid_0's binary_logloss: 0.427086\tvalid_0's l1: 0.272752\n",
            "[63]\tvalid_0's binary_logloss: 0.426965\tvalid_0's l1: 0.272678\n",
            "[64]\tvalid_0's binary_logloss: 0.426877\tvalid_0's l1: 0.272594\n",
            "[65]\tvalid_0's binary_logloss: 0.426808\tvalid_0's l1: 0.272512\n",
            "[66]\tvalid_0's binary_logloss: 0.426804\tvalid_0's l1: 0.272489\n",
            "[67]\tvalid_0's binary_logloss: 0.426748\tvalid_0's l1: 0.272453\n",
            "[68]\tvalid_0's binary_logloss: 0.426689\tvalid_0's l1: 0.272373\n",
            "[69]\tvalid_0's binary_logloss: 0.42657\tvalid_0's l1: 0.272332\n",
            "[70]\tvalid_0's binary_logloss: 0.426363\tvalid_0's l1: 0.272183\n",
            "[71]\tvalid_0's binary_logloss: 0.426349\tvalid_0's l1: 0.27216\n",
            "[72]\tvalid_0's binary_logloss: 0.426262\tvalid_0's l1: 0.272103\n",
            "[73]\tvalid_0's binary_logloss: 0.426106\tvalid_0's l1: 0.271972\n",
            "[74]\tvalid_0's binary_logloss: 0.426079\tvalid_0's l1: 0.271942\n",
            "[75]\tvalid_0's binary_logloss: 0.426062\tvalid_0's l1: 0.271914\n",
            "[76]\tvalid_0's binary_logloss: 0.426002\tvalid_0's l1: 0.271873\n",
            "[77]\tvalid_0's binary_logloss: 0.42588\tvalid_0's l1: 0.271755\n",
            "[78]\tvalid_0's binary_logloss: 0.425921\tvalid_0's l1: 0.271763\n",
            "[79]\tvalid_0's binary_logloss: 0.425935\tvalid_0's l1: 0.271769\n",
            "[80]\tvalid_0's binary_logloss: 0.425882\tvalid_0's l1: 0.271735\n",
            "[81]\tvalid_0's binary_logloss: 0.425854\tvalid_0's l1: 0.271715\n",
            "[82]\tvalid_0's binary_logloss: 0.425777\tvalid_0's l1: 0.271687\n",
            "[83]\tvalid_0's binary_logloss: 0.425738\tvalid_0's l1: 0.271675\n",
            "[84]\tvalid_0's binary_logloss: 0.425697\tvalid_0's l1: 0.271657\n",
            "[85]\tvalid_0's binary_logloss: 0.425639\tvalid_0's l1: 0.27162\n",
            "[86]\tvalid_0's binary_logloss: 0.425636\tvalid_0's l1: 0.271586\n",
            "[87]\tvalid_0's binary_logloss: 0.425599\tvalid_0's l1: 0.271552\n",
            "[88]\tvalid_0's binary_logloss: 0.425564\tvalid_0's l1: 0.271515\n",
            "[89]\tvalid_0's binary_logloss: 0.425578\tvalid_0's l1: 0.271491\n",
            "[90]\tvalid_0's binary_logloss: 0.425517\tvalid_0's l1: 0.271452\n",
            "[91]\tvalid_0's binary_logloss: 0.42545\tvalid_0's l1: 0.271409\n",
            "[92]\tvalid_0's binary_logloss: 0.425375\tvalid_0's l1: 0.271352\n",
            "[93]\tvalid_0's binary_logloss: 0.425387\tvalid_0's l1: 0.271346\n",
            "[94]\tvalid_0's binary_logloss: 0.425301\tvalid_0's l1: 0.271289\n",
            "[95]\tvalid_0's binary_logloss: 0.425218\tvalid_0's l1: 0.271232\n",
            "[96]\tvalid_0's binary_logloss: 0.425145\tvalid_0's l1: 0.271168\n",
            "[97]\tvalid_0's binary_logloss: 0.425142\tvalid_0's l1: 0.27113\n",
            "[98]\tvalid_0's binary_logloss: 0.425117\tvalid_0's l1: 0.271105\n",
            "[99]\tvalid_0's binary_logloss: 0.425091\tvalid_0's l1: 0.271088\n",
            "[100]\tvalid_0's binary_logloss: 0.424998\tvalid_0's l1: 0.27098\n",
            "[101]\tvalid_0's binary_logloss: 0.424984\tvalid_0's l1: 0.270965\n",
            "[102]\tvalid_0's binary_logloss: 0.424951\tvalid_0's l1: 0.270931\n",
            "[103]\tvalid_0's binary_logloss: 0.424888\tvalid_0's l1: 0.270892\n",
            "[104]\tvalid_0's binary_logloss: 0.424917\tvalid_0's l1: 0.270861\n",
            "[105]\tvalid_0's binary_logloss: 0.424788\tvalid_0's l1: 0.27077\n",
            "[106]\tvalid_0's binary_logloss: 0.424713\tvalid_0's l1: 0.270698\n",
            "[107]\tvalid_0's binary_logloss: 0.424618\tvalid_0's l1: 0.270642\n",
            "[108]\tvalid_0's binary_logloss: 0.42454\tvalid_0's l1: 0.270579\n",
            "[109]\tvalid_0's binary_logloss: 0.424513\tvalid_0's l1: 0.270547\n",
            "[110]\tvalid_0's binary_logloss: 0.424466\tvalid_0's l1: 0.270526\n",
            "[111]\tvalid_0's binary_logloss: 0.424419\tvalid_0's l1: 0.270504\n",
            "[112]\tvalid_0's binary_logloss: 0.424427\tvalid_0's l1: 0.270492\n",
            "[113]\tvalid_0's binary_logloss: 0.424403\tvalid_0's l1: 0.270466\n",
            "[114]\tvalid_0's binary_logloss: 0.424397\tvalid_0's l1: 0.270445\n",
            "[115]\tvalid_0's binary_logloss: 0.424363\tvalid_0's l1: 0.270412\n",
            "[116]\tvalid_0's binary_logloss: 0.424341\tvalid_0's l1: 0.270388\n",
            "[117]\tvalid_0's binary_logloss: 0.424355\tvalid_0's l1: 0.270379\n",
            "[118]\tvalid_0's binary_logloss: 0.424325\tvalid_0's l1: 0.270337\n",
            "[119]\tvalid_0's binary_logloss: 0.424326\tvalid_0's l1: 0.270321\n",
            "[120]\tvalid_0's binary_logloss: 0.42432\tvalid_0's l1: 0.270317\n",
            "[121]\tvalid_0's binary_logloss: 0.424287\tvalid_0's l1: 0.270261\n",
            "[122]\tvalid_0's binary_logloss: 0.424292\tvalid_0's l1: 0.270246\n",
            "[123]\tvalid_0's binary_logloss: 0.424316\tvalid_0's l1: 0.270238\n",
            "[124]\tvalid_0's binary_logloss: 0.42427\tvalid_0's l1: 0.27022\n",
            "[125]\tvalid_0's binary_logloss: 0.424221\tvalid_0's l1: 0.270173\n",
            "[126]\tvalid_0's binary_logloss: 0.424179\tvalid_0's l1: 0.270119\n",
            "[127]\tvalid_0's binary_logloss: 0.424194\tvalid_0's l1: 0.270089\n",
            "[128]\tvalid_0's binary_logloss: 0.42417\tvalid_0's l1: 0.270051\n",
            "[129]\tvalid_0's binary_logloss: 0.424124\tvalid_0's l1: 0.270027\n",
            "[130]\tvalid_0's binary_logloss: 0.424125\tvalid_0's l1: 0.269992\n",
            "[131]\tvalid_0's binary_logloss: 0.424073\tvalid_0's l1: 0.269986\n",
            "[132]\tvalid_0's binary_logloss: 0.424006\tvalid_0's l1: 0.269932\n",
            "[133]\tvalid_0's binary_logloss: 0.42395\tvalid_0's l1: 0.26987\n",
            "[134]\tvalid_0's binary_logloss: 0.423897\tvalid_0's l1: 0.269833\n",
            "[135]\tvalid_0's binary_logloss: 0.423873\tvalid_0's l1: 0.269809\n",
            "[136]\tvalid_0's binary_logloss: 0.423805\tvalid_0's l1: 0.26977\n",
            "[137]\tvalid_0's binary_logloss: 0.42379\tvalid_0's l1: 0.26975\n",
            "[138]\tvalid_0's binary_logloss: 0.42382\tvalid_0's l1: 0.269756\n",
            "[139]\tvalid_0's binary_logloss: 0.423836\tvalid_0's l1: 0.269755\n",
            "[140]\tvalid_0's binary_logloss: 0.423874\tvalid_0's l1: 0.269738\n",
            "[141]\tvalid_0's binary_logloss: 0.423879\tvalid_0's l1: 0.269698\n",
            "[142]\tvalid_0's binary_logloss: 0.423836\tvalid_0's l1: 0.26966\n",
            "Early stopping, best iteration is:\n",
            "[137]\tvalid_0's binary_logloss: 0.42379\tvalid_0's l1: 0.26975\n"
          ],
          "name": "stdout"
        },
        {
          "output_type": "execute_result",
          "data": {
            "text/plain": [
              "LGBMClassifier(boosting_type='gbdt', class_weight=None, colsample_bytree=1.0,\n",
              "        importance_type='split', learning_rate=0.1, max_depth=-1,\n",
              "        min_child_samples=20, min_child_weight=0.001, min_split_gain=0.0,\n",
              "        n_estimators=200, n_jobs=-1, num_leaves=31, objective=None,\n",
              "        random_state=None, reg_alpha=0.0, reg_lambda=0.0, silent=True,\n",
              "        subsample=1.0, subsample_for_bin=200000, subsample_freq=0)"
            ]
          },
          "metadata": {
            "tags": []
          },
          "execution_count": 78
        }
      ]
    },
    {
      "metadata": {
        "id": "CSAw0xG1hmXA",
        "colab_type": "code",
        "colab": {}
      },
      "cell_type": "code",
      "source": [
        "params = {'boosting_type': 'gbdt',\n",
        "          'max_depth' : -1,\n",
        "          'objective': 'binary',\n",
        "          'nthread': 3,\n",
        "          'num_leaves': 64,\n",
        "          'learning_rate': 0.05,\n",
        "          'max_bin': 512,\n",
        "          'subsample_for_bin': 200,\n",
        "          'subsample': 1,\n",
        "          'subsample_freq': 1,\n",
        "          'colsample_bytree': 0.8,\n",
        "          'reg_alpha': 5,\n",
        "          'reg_lambda': 10,\n",
        "          'min_split_gain': 0.5,\n",
        "          'min_child_weight': 1,\n",
        "          'min_child_samples': 5,\n",
        "          'scale_pos_weight': 1,\n",
        "          'num_class' : 1,\n",
        "          'metric' : 'binary_error'}\n",
        "\n",
        "# Parametrization for GS\n",
        "gridParams = {\n",
        "    'learning_rate': [0.5, 0.005],\n",
        "    'n_estimators': [40, 200, 1000],\n",
        "    'num_leaves': [5, 10, 15],\n",
        "    'boosting_type' : ['gbdt'],\n",
        "    'objective' : ['binary'],\n",
        "    'random_state' : [99], \n",
        "    'colsample_bytree' : [0.66],\n",
        "    'subsample' : [0.75],\n",
        "    'reg_alpha' : [1,1.2],\n",
        "    'reg_lambda' : [1,1.4],\n",
        "    }\n",
        "\n",
        "# Classifier\n",
        "mdl = lgb.LGBMClassifier(boosting_type= 'gbdt',\n",
        "          objective = 'auc',\n",
        "          n_jobs = 3, \n",
        "          silent = True,\n",
        "          max_depth = params['max_depth'],\n",
        "          max_bin = params['max_bin'],\n",
        "          subsample_for_bin = params['subsample_for_bin'],\n",
        "          subsample = params['subsample'],\n",
        "          subsample_freq = params['subsample_freq'],\n",
        "          min_split_gain = params['min_split_gain'],\n",
        "          min_child_weight = params['min_child_weight'],\n",
        "          min_child_samples = params['min_child_samples'],\n",
        "          scale_pos_weight = params['scale_pos_weight'])"
      ],
      "execution_count": 0,
      "outputs": []
    },
    {
      "metadata": {
        "id": "aOl_WLn0h-wJ",
        "colab_type": "code",
        "colab": {
          "base_uri": "https://localhost:8080/",
          "height": 343
        },
        "outputId": "1cad3659-ffd0-4564-be34-cfdcc96f585c"
      },
      "cell_type": "code",
      "source": [
        "grid = GridSearchCV(mdl, gridParams,\n",
        "                    verbose=3,\n",
        "                    cv=4,\n",
        "                    n_jobs=2)\n",
        "# Grid Search on the go!\n",
        "grid.fit(train.drop('dep_delayed_15min', axis=1), train.dep_delayed_15min)"
      ],
      "execution_count": 80,
      "outputs": [
        {
          "output_type": "stream",
          "text": [
            "Fitting 4 folds for each of 72 candidates, totalling 288 fits\n"
          ],
          "name": "stdout"
        },
        {
          "output_type": "stream",
          "text": [
            "[Parallel(n_jobs=2)]: Using backend LokyBackend with 2 concurrent workers.\n",
            "[Parallel(n_jobs=2)]: Done  28 tasks      | elapsed:   14.7s\n",
            "[Parallel(n_jobs=2)]: Done 124 tasks      | elapsed:  5.8min\n",
            "[Parallel(n_jobs=2)]: Done 284 tasks      | elapsed: 19.7min\n",
            "[Parallel(n_jobs=2)]: Done 288 out of 288 | elapsed: 20.6min finished\n"
          ],
          "name": "stderr"
        },
        {
          "output_type": "execute_result",
          "data": {
            "text/plain": [
              "GridSearchCV(cv=4, error_score='raise-deprecating',\n",
              "       estimator=LGBMClassifier(boosting_type='gbdt', class_weight=None, colsample_bytree=1.0,\n",
              "        importance_type='split', learning_rate=0.1, max_bin=512,\n",
              "        max_depth=-1, min_child_samples=5, min_child_weight=1,\n",
              "        min_split_gain=0.5, n_estimators=100, n_jobs=3, num_leaves=31,\n",
              "        objective='auc', random_state=None, reg_alpha=0.0, reg_lambda=0.0,\n",
              "        scale_pos_weight=1, silent=True, subsample=1,\n",
              "        subsample_for_bin=200, subsample_freq=1),\n",
              "       fit_params=None, iid='warn', n_jobs=2,\n",
              "       param_grid={'learning_rate': [0.5, 0.005], 'n_estimators': [40, 200, 1000], 'num_leaves': [5, 10, 15], 'boosting_type': ['gbdt'], 'objective': ['binary'], 'random_state': [99], 'colsample_bytree': [0.66], 'subsample': [0.75], 'reg_alpha': [1, 1.2], 'reg_lambda': [1, 1.4]},\n",
              "       pre_dispatch='2*n_jobs', refit=True, return_train_score='warn',\n",
              "       scoring=None, verbose=3)"
            ]
          },
          "metadata": {
            "tags": []
          },
          "execution_count": 80
        }
      ]
    },
    {
      "metadata": {
        "id": "Wrl1k0bQiGC7",
        "colab_type": "code",
        "colab": {
          "base_uri": "https://localhost:8080/",
          "height": 187
        },
        "outputId": "14c83068-95b2-4a87-bf87-5d8f410cc77c"
      },
      "cell_type": "code",
      "source": [
        "grid.best_params_"
      ],
      "execution_count": 81,
      "outputs": [
        {
          "output_type": "execute_result",
          "data": {
            "text/plain": [
              "{'boosting_type': 'gbdt',\n",
              " 'colsample_bytree': 0.66,\n",
              " 'learning_rate': 0.5,\n",
              " 'n_estimators': 1000,\n",
              " 'num_leaves': 5,\n",
              " 'objective': 'binary',\n",
              " 'random_state': 99,\n",
              " 'reg_alpha': 1,\n",
              " 'reg_lambda': 1.4,\n",
              " 'subsample': 0.75}"
            ]
          },
          "metadata": {
            "tags": []
          },
          "execution_count": 81
        }
      ]
    },
    {
      "metadata": {
        "id": "IWLtTTabqwqb",
        "colab_type": "code",
        "colab": {
          "base_uri": "https://localhost:8080/",
          "height": 1581
        },
        "outputId": "201db6c9-cf3f-4e40-b370-57f2ddceff5e"
      },
      "cell_type": "code",
      "source": [
        "gbm = lgb.LGBMClassifier(**grid.best_params_)\n",
        "gbm.fit(X_train, y_train,\n",
        "        eval_set=[(X_test, y_test)],\n",
        "        eval_metric='l1',\n",
        "        early_stopping_rounds=5)"
      ],
      "execution_count": 82,
      "outputs": [
        {
          "output_type": "stream",
          "text": [
            "[1]\tvalid_0's binary_logloss: 0.462333\tvalid_0's l1: 0.300706\n",
            "Training until validation scores don't improve for 5 rounds.\n",
            "[2]\tvalid_0's binary_logloss: 0.454136\tvalid_0's l1: 0.294929\n",
            "[3]\tvalid_0's binary_logloss: 0.450107\tvalid_0's l1: 0.290699\n",
            "[4]\tvalid_0's binary_logloss: 0.449015\tvalid_0's l1: 0.289551\n",
            "[5]\tvalid_0's binary_logloss: 0.447447\tvalid_0's l1: 0.288527\n",
            "[6]\tvalid_0's binary_logloss: 0.445181\tvalid_0's l1: 0.286951\n",
            "[7]\tvalid_0's binary_logloss: 0.443318\tvalid_0's l1: 0.285177\n",
            "[8]\tvalid_0's binary_logloss: 0.442301\tvalid_0's l1: 0.284481\n",
            "[9]\tvalid_0's binary_logloss: 0.441084\tvalid_0's l1: 0.283665\n",
            "[10]\tvalid_0's binary_logloss: 0.440184\tvalid_0's l1: 0.28282\n",
            "[11]\tvalid_0's binary_logloss: 0.439546\tvalid_0's l1: 0.28227\n",
            "[12]\tvalid_0's binary_logloss: 0.438955\tvalid_0's l1: 0.281784\n",
            "[13]\tvalid_0's binary_logloss: 0.438446\tvalid_0's l1: 0.281245\n",
            "[14]\tvalid_0's binary_logloss: 0.438154\tvalid_0's l1: 0.280664\n",
            "[15]\tvalid_0's binary_logloss: 0.437445\tvalid_0's l1: 0.279995\n",
            "[16]\tvalid_0's binary_logloss: 0.437177\tvalid_0's l1: 0.279839\n",
            "[17]\tvalid_0's binary_logloss: 0.436954\tvalid_0's l1: 0.279487\n",
            "[18]\tvalid_0's binary_logloss: 0.436693\tvalid_0's l1: 0.27919\n",
            "[19]\tvalid_0's binary_logloss: 0.436598\tvalid_0's l1: 0.27919\n",
            "[20]\tvalid_0's binary_logloss: 0.436373\tvalid_0's l1: 0.279013\n",
            "[21]\tvalid_0's binary_logloss: 0.436055\tvalid_0's l1: 0.278678\n",
            "[22]\tvalid_0's binary_logloss: 0.435693\tvalid_0's l1: 0.278446\n",
            "[23]\tvalid_0's binary_logloss: 0.435544\tvalid_0's l1: 0.278056\n",
            "[24]\tvalid_0's binary_logloss: 0.435337\tvalid_0's l1: 0.27809\n",
            "[25]\tvalid_0's binary_logloss: 0.434786\tvalid_0's l1: 0.277752\n",
            "[26]\tvalid_0's binary_logloss: 0.434667\tvalid_0's l1: 0.27763\n",
            "[27]\tvalid_0's binary_logloss: 0.434555\tvalid_0's l1: 0.277495\n",
            "[28]\tvalid_0's binary_logloss: 0.434454\tvalid_0's l1: 0.277417\n",
            "[29]\tvalid_0's binary_logloss: 0.434123\tvalid_0's l1: 0.276876\n",
            "[30]\tvalid_0's binary_logloss: 0.433991\tvalid_0's l1: 0.276812\n",
            "[31]\tvalid_0's binary_logloss: 0.433756\tvalid_0's l1: 0.276716\n",
            "[32]\tvalid_0's binary_logloss: 0.433652\tvalid_0's l1: 0.276601\n",
            "[33]\tvalid_0's binary_logloss: 0.433383\tvalid_0's l1: 0.276523\n",
            "[34]\tvalid_0's binary_logloss: 0.433264\tvalid_0's l1: 0.276349\n",
            "[35]\tvalid_0's binary_logloss: 0.433164\tvalid_0's l1: 0.276293\n",
            "[36]\tvalid_0's binary_logloss: 0.43298\tvalid_0's l1: 0.276077\n",
            "[37]\tvalid_0's binary_logloss: 0.432776\tvalid_0's l1: 0.276077\n",
            "[38]\tvalid_0's binary_logloss: 0.432516\tvalid_0's l1: 0.275872\n",
            "[39]\tvalid_0's binary_logloss: 0.432434\tvalid_0's l1: 0.275806\n",
            "[40]\tvalid_0's binary_logloss: 0.432089\tvalid_0's l1: 0.275688\n",
            "[41]\tvalid_0's binary_logloss: 0.43194\tvalid_0's l1: 0.275568\n",
            "[42]\tvalid_0's binary_logloss: 0.431839\tvalid_0's l1: 0.275501\n",
            "[43]\tvalid_0's binary_logloss: 0.431603\tvalid_0's l1: 0.275157\n",
            "[44]\tvalid_0's binary_logloss: 0.43138\tvalid_0's l1: 0.274963\n",
            "[45]\tvalid_0's binary_logloss: 0.431344\tvalid_0's l1: 0.274889\n",
            "[46]\tvalid_0's binary_logloss: 0.431293\tvalid_0's l1: 0.274819\n",
            "[47]\tvalid_0's binary_logloss: 0.431272\tvalid_0's l1: 0.274814\n",
            "[48]\tvalid_0's binary_logloss: 0.431262\tvalid_0's l1: 0.274822\n",
            "[49]\tvalid_0's binary_logloss: 0.430781\tvalid_0's l1: 0.2746\n",
            "[50]\tvalid_0's binary_logloss: 0.430628\tvalid_0's l1: 0.274436\n",
            "[51]\tvalid_0's binary_logloss: 0.430614\tvalid_0's l1: 0.274429\n",
            "[52]\tvalid_0's binary_logloss: 0.430605\tvalid_0's l1: 0.274377\n",
            "[53]\tvalid_0's binary_logloss: 0.430375\tvalid_0's l1: 0.274106\n",
            "[54]\tvalid_0's binary_logloss: 0.430235\tvalid_0's l1: 0.273996\n",
            "[55]\tvalid_0's binary_logloss: 0.429996\tvalid_0's l1: 0.273809\n",
            "[56]\tvalid_0's binary_logloss: 0.42992\tvalid_0's l1: 0.273755\n",
            "[57]\tvalid_0's binary_logloss: 0.429943\tvalid_0's l1: 0.273809\n",
            "[58]\tvalid_0's binary_logloss: 0.429852\tvalid_0's l1: 0.273761\n",
            "[59]\tvalid_0's binary_logloss: 0.429661\tvalid_0's l1: 0.273599\n",
            "[60]\tvalid_0's binary_logloss: 0.429661\tvalid_0's l1: 0.27357\n",
            "[61]\tvalid_0's binary_logloss: 0.429485\tvalid_0's l1: 0.273431\n",
            "[62]\tvalid_0's binary_logloss: 0.429426\tvalid_0's l1: 0.27335\n",
            "[63]\tvalid_0's binary_logloss: 0.429441\tvalid_0's l1: 0.273333\n",
            "[64]\tvalid_0's binary_logloss: 0.429309\tvalid_0's l1: 0.27326\n",
            "[65]\tvalid_0's binary_logloss: 0.42933\tvalid_0's l1: 0.273321\n",
            "[66]\tvalid_0's binary_logloss: 0.429402\tvalid_0's l1: 0.273295\n",
            "[67]\tvalid_0's binary_logloss: 0.429376\tvalid_0's l1: 0.273215\n",
            "[68]\tvalid_0's binary_logloss: 0.42926\tvalid_0's l1: 0.273037\n",
            "[69]\tvalid_0's binary_logloss: 0.429127\tvalid_0's l1: 0.272887\n",
            "[70]\tvalid_0's binary_logloss: 0.429138\tvalid_0's l1: 0.272867\n",
            "[71]\tvalid_0's binary_logloss: 0.42914\tvalid_0's l1: 0.272841\n",
            "[72]\tvalid_0's binary_logloss: 0.429106\tvalid_0's l1: 0.272808\n",
            "[73]\tvalid_0's binary_logloss: 0.429113\tvalid_0's l1: 0.272778\n",
            "[74]\tvalid_0's binary_logloss: 0.429172\tvalid_0's l1: 0.272791\n",
            "[75]\tvalid_0's binary_logloss: 0.429012\tvalid_0's l1: 0.272696\n",
            "[76]\tvalid_0's binary_logloss: 0.42899\tvalid_0's l1: 0.272646\n",
            "[77]\tvalid_0's binary_logloss: 0.428925\tvalid_0's l1: 0.272498\n",
            "[78]\tvalid_0's binary_logloss: 0.428776\tvalid_0's l1: 0.272443\n",
            "[79]\tvalid_0's binary_logloss: 0.428882\tvalid_0's l1: 0.272472\n",
            "[80]\tvalid_0's binary_logloss: 0.428837\tvalid_0's l1: 0.272422\n",
            "[81]\tvalid_0's binary_logloss: 0.428848\tvalid_0's l1: 0.272336\n",
            "[82]\tvalid_0's binary_logloss: 0.428792\tvalid_0's l1: 0.272308\n",
            "[83]\tvalid_0's binary_logloss: 0.428786\tvalid_0's l1: 0.272305\n",
            "Early stopping, best iteration is:\n",
            "[78]\tvalid_0's binary_logloss: 0.428776\tvalid_0's l1: 0.272443\n"
          ],
          "name": "stdout"
        },
        {
          "output_type": "execute_result",
          "data": {
            "text/plain": [
              "LGBMClassifier(boosting_type='gbdt', class_weight=None, colsample_bytree=0.66,\n",
              "        importance_type='split', learning_rate=0.5, max_depth=-1,\n",
              "        min_child_samples=20, min_child_weight=0.001, min_split_gain=0.0,\n",
              "        n_estimators=1000, n_jobs=-1, num_leaves=5, objective='binary',\n",
              "        random_state=99, reg_alpha=1, reg_lambda=1.4, silent=True,\n",
              "        subsample=0.75, subsample_for_bin=200000, subsample_freq=0)"
            ]
          },
          "metadata": {
            "tags": []
          },
          "execution_count": 82
        }
      ]
    },
    {
      "metadata": {
        "id": "-30rj0swq1RL",
        "colab_type": "code",
        "colab": {
          "base_uri": "https://localhost:8080/",
          "height": 119
        },
        "outputId": "327c0631-922c-4ed0-929a-873111f19d6a"
      },
      "cell_type": "code",
      "source": [
        "gbm = lgb.LGBMClassifier(**grid.best_params_)\n",
        "gbm.fit(train.drop('dep_delayed_15min', axis=1), train.dep_delayed_15min)"
      ],
      "execution_count": 83,
      "outputs": [
        {
          "output_type": "execute_result",
          "data": {
            "text/plain": [
              "LGBMClassifier(boosting_type='gbdt', class_weight=None, colsample_bytree=0.66,\n",
              "        importance_type='split', learning_rate=0.5, max_depth=-1,\n",
              "        min_child_samples=20, min_child_weight=0.001, min_split_gain=0.0,\n",
              "        n_estimators=1000, n_jobs=-1, num_leaves=5, objective='binary',\n",
              "        random_state=99, reg_alpha=1, reg_lambda=1.4, silent=True,\n",
              "        subsample=0.75, subsample_for_bin=200000, subsample_freq=0)"
            ]
          },
          "metadata": {
            "tags": []
          },
          "execution_count": 83
        }
      ]
    },
    {
      "metadata": {
        "id": "SFgKe6LEq7ZG",
        "colab_type": "code",
        "colab": {
          "base_uri": "https://localhost:8080/",
          "height": 34
        },
        "outputId": "8a99fcb8-906d-43ae-ef0d-e4ec38c9eedb"
      },
      "cell_type": "code",
      "source": [
        "roc_auc_score(y_test, gbm.predict_proba(X_test)[:, 1])"
      ],
      "execution_count": 84,
      "outputs": [
        {
          "output_type": "execute_result",
          "data": {
            "text/plain": [
              "0.8137073243290689"
            ]
          },
          "metadata": {
            "tags": []
          },
          "execution_count": 84
        }
      ]
    },
    {
      "metadata": {
        "id": "hgwSZ9VTq-sB",
        "colab_type": "code",
        "colab": {}
      },
      "cell_type": "code",
      "source": [
        "test_df['DayOfWeek'] = test_df.DayOfWeek.apply(lambda x: int(x.split('-')[1]))\n",
        "test_df['Month'] = test_df.Month.apply(lambda x: int(x.split('-')[1]))\n",
        "test_df['DayofMonth'] = test_df.DayofMonth.apply(lambda x: int(x.split('-')[1]))\n",
        "\n",
        "test_df['Origin'] = test_df.Origin.apply(lambda x: x if x in origin_list else 'other')\n",
        "test_df['Dest'] = test_df.Dest.apply(lambda x: x if x in dest_list else 'other')\n",
        "test_df['UniqueCarrier'] = test_df.UniqueCarrier.apply(lambda x: x if x in carriers_list else 'other')\n",
        "\n",
        "test_df = pd.get_dummies(test)"
      ],
      "execution_count": 0,
      "outputs": []
    }
  ]
}